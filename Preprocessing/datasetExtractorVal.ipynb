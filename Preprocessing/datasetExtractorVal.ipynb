{
 "cells": [
  {
   "cell_type": "code",
   "execution_count": 1,
   "id": "1e1015a1-035d-46d7-8ebd-e47f5e331188",
   "metadata": {
    "tags": []
   },
   "outputs": [],
   "source": [
    "import os\n",
    "import random\n",
    "import shutil\n",
    "\n",
    "import numpy as np\n",
    "import pandas as pd\n",
    "import json"
   ]
  },
  {
   "cell_type": "code",
   "execution_count": 2,
   "id": "104e1c9a-56c9-4edd-a1ae-d68bae4e1531",
   "metadata": {
    "tags": []
   },
   "outputs": [],
   "source": [
    "file = \"\"\n",
    "# file = \"_10\"\n",
    "\n",
    "if not os.path.exists(f\"val2014_sampled{file}\"):\n",
    "    os.makedirs(f\"val2014_sampled{file}\")\n",
    "\n",
    "files = os.listdir(\"val2014\")\n",
    "\n",
    "random.shuffle(files)\n",
    "\n",
    "# num_files_to_sample = len(files) // 4\n",
    "num_files_to_sample = 10\n",
    "\n",
    "sampled_files = files[:num_files_to_sample]\n",
    "\n",
    "for file_name in sampled_files:\n",
    "    file_path = os.path.join(\"val2014\", file_name)\n",
    "    new_file_path = os.path.join(f\"val2014_sampled{file}\", file_name)\n",
    "    shutil.copy(file_path, new_file_path)\n",
    "\n",
    "print(\"Sampling complete. Sampled files are stored in:\", f\"val2014_sampled{file}\")\n"
   ]
  },
  {
   "cell_type": "code",
   "execution_count": 13,
   "id": "bd08b258-ef81-451e-a70f-2a28126f3463",
   "metadata": {
    "tags": []
   },
   "outputs": [],
   "source": [
    "def padZeros(number):\n",
    "    number_str = str(number)\n",
    "    if len(number_str) >= 12:\n",
    "        return number_str\n",
    "    else:\n",
    "        return '0' * (12 - len(number_str)) + number_str"
   ]
  },
  {
   "cell_type": "code",
   "execution_count": 3,
   "id": "50eb3aa6-04c1-42f6-87f6-a0c01bc63899",
   "metadata": {
    "tags": []
   },
   "outputs": [],
   "source": [
    "imgs = os.listdir(\"val2014\")\n",
    "sampled_imgs = os.listdir(f\"val2014_sampled{file}\")"
   ]
  },
  {
   "cell_type": "code",
   "execution_count": 4,
   "id": "a25495cb-3f25-4224-a4d6-c7be05ef6d4e",
   "metadata": {
    "tags": []
   },
   "outputs": [
    {
     "data": {
      "text/plain": [
       "40504"
      ]
     },
     "execution_count": 4,
     "metadata": {},
     "output_type": "execute_result"
    }
   ],
   "source": [
    "len(imgs)"
   ]
  },
  {
   "cell_type": "code",
   "execution_count": 5,
   "id": "ae97a7fb-1d34-4a4c-aba0-4775bcaa1add",
   "metadata": {
    "tags": []
   },
   "outputs": [
    {
     "data": {
      "text/plain": [
       "10"
      ]
     },
     "execution_count": 5,
     "metadata": {},
     "output_type": "execute_result"
    }
   ],
   "source": [
    "len(sampled_imgs)"
   ]
  },
  {
   "cell_type": "code",
   "execution_count": 6,
   "id": "bb0d608a-baf1-48dc-a3f8-d4e9fd289db4",
   "metadata": {
    "tags": []
   },
   "outputs": [],
   "source": [
    "sampled_imgs_ids = [int(i.split('_')[2][:-4]) for i in sampled_imgs]"
   ]
  },
  {
   "cell_type": "code",
   "execution_count": 7,
   "id": "27f9d260-89c9-481c-94c2-0e2f2933e637",
   "metadata": {
    "tags": []
   },
   "outputs": [],
   "source": [
    "annotation_file = open('v2_mscoco_val2014_annotations.json')\n",
    "annotations = json.load(annotation_file)\n",
    "annotation_file.close()\n",
    "questions_file = open('v2_OpenEnded_mscoco_val2014_questions.json')\n",
    "questions = json.load(questions_file)\n",
    "questions_file.close()"
   ]
  },
  {
   "cell_type": "code",
   "execution_count": 8,
   "id": "8a3310bd-71b6-4969-9749-2fac72d50fd4",
   "metadata": {
    "tags": []
   },
   "outputs": [],
   "source": [
    "annotations = annotations['annotations']"
   ]
  },
  {
   "cell_type": "code",
   "execution_count": 9,
   "id": "c54c85bf-9536-4d70-877b-6df4bccacbfe",
   "metadata": {
    "tags": []
   },
   "outputs": [],
   "source": [
    "questions = questions['questions']"
   ]
  },
  {
   "cell_type": "code",
   "execution_count": 10,
   "id": "1973e2e4-48fd-4c75-af36-8cc856f3303e",
   "metadata": {
    "tags": []
   },
   "outputs": [
    {
     "data": {
      "text/plain": [
       "{'image_id': 262148,\n",
       " 'question': 'What are the people in the background doing?',\n",
       " 'question_id': 262148001}"
      ]
     },
     "execution_count": 10,
     "metadata": {},
     "output_type": "execute_result"
    }
   ],
   "source": [
    "questions[1]"
   ]
  },
  {
   "cell_type": "code",
   "execution_count": 11,
   "id": "518bc2f2-dbfd-431b-8e2a-08adc7487096",
   "metadata": {
    "tags": []
   },
   "outputs": [
    {
     "data": {
      "text/plain": [
       "{'question_type': 'what are the',\n",
       " 'multiple_choice_answer': 'watching',\n",
       " 'answers': [{'answer': 'spectating',\n",
       "   'answer_confidence': 'yes',\n",
       "   'answer_id': 1},\n",
       "  {'answer': 'watching', 'answer_confidence': 'yes', 'answer_id': 2},\n",
       "  {'answer': 'watching', 'answer_confidence': 'yes', 'answer_id': 3},\n",
       "  {'answer': 'watching', 'answer_confidence': 'yes', 'answer_id': 4},\n",
       "  {'answer': 'watching', 'answer_confidence': 'yes', 'answer_id': 5},\n",
       "  {'answer': 'watching', 'answer_confidence': 'maybe', 'answer_id': 6},\n",
       "  {'answer': 'watching', 'answer_confidence': 'yes', 'answer_id': 7},\n",
       "  {'answer': 'watching', 'answer_confidence': 'yes', 'answer_id': 8},\n",
       "  {'answer': 'watching', 'answer_confidence': 'yes', 'answer_id': 9},\n",
       "  {'answer': 'watching', 'answer_confidence': 'yes', 'answer_id': 10}],\n",
       " 'image_id': 262148,\n",
       " 'answer_type': 'other',\n",
       " 'question_id': 262148001}"
      ]
     },
     "execution_count": 11,
     "metadata": {},
     "output_type": "execute_result"
    }
   ],
   "source": [
    "annotations[1]"
   ]
  },
  {
   "cell_type": "code",
   "execution_count": 14,
   "id": "f7444f71-4a4d-4272-bf3a-05076ff265a4",
   "metadata": {
    "tags": []
   },
   "outputs": [],
   "source": [
    "path = f\"/kaggle/input/vr-image-qna/val2014_sampled{file}/val2014_sampled{file}/COCO_val2014_\"\n",
    "\n",
    "data = []\n",
    "for i in range(len(questions)):\n",
    "    data.append([questions[i][\"question\"], annotations[i][\"multiple_choice_answer\"], questions[i][\"image_id\"],  questions[i][\"question_id\"], annotations[i][\"question_type\"], annotations[i][\"answer_type\"], path + padZeros(questions[i][\"image_id\"]) + \".jpg\"])\n",
    "    \n",
    "    "
   ]
  },
  {
   "cell_type": "code",
   "execution_count": 15,
   "id": "e5fa5cab-b1b9-44c0-b42b-7807382228ca",
   "metadata": {
    "tags": []
   },
   "outputs": [
    {
     "data": {
      "text/plain": [
       "214354"
      ]
     },
     "execution_count": 15,
     "metadata": {},
     "output_type": "execute_result"
    }
   ],
   "source": [
    "len(annotations)"
   ]
  },
  {
   "cell_type": "code",
   "execution_count": 16,
   "id": "98c2fc3e-aada-4071-b1f7-bcd142d4a0eb",
   "metadata": {
    "tags": []
   },
   "outputs": [
    {
     "data": {
      "text/plain": [
       "214354"
      ]
     },
     "execution_count": 16,
     "metadata": {},
     "output_type": "execute_result"
    }
   ],
   "source": [
    "len(questions)"
   ]
  },
  {
   "cell_type": "code",
   "execution_count": 19,
   "id": "806595cd-68e7-45b3-83d0-de5a1351fd0f",
   "metadata": {
    "tags": []
   },
   "outputs": [],
   "source": [
    "sampled_data = []\n",
    "\n",
    "for d in data:\n",
    "    if(d[2] in sampled_imgs_ids):\n",
    "        sampled_data.append(d)"
   ]
  },
  {
   "cell_type": "code",
   "execution_count": 20,
   "id": "917bf70d-4cbb-420e-a00b-bd267000ed7d",
   "metadata": {
    "tags": []
   },
   "outputs": [],
   "source": [
    "import csv\n",
    "column_headers = ['question', 'answer', 'imageId', 'questionId', 'questionType', 'answerType', 'kaggle_image_path']\n",
    "with open(f'data_val{file}.csv', 'w', newline='') as f:\n",
    "    writer = csv.writer(f)\n",
    "    writer.writerow(column_headers)\n",
    "    writer.writerows(sampled_data)"
   ]
  },
  {
   "cell_type": "code",
   "execution_count": 21,
   "id": "fb48dc7f-1087-41a4-96ee-e457d7eb0205",
   "metadata": {
    "tags": []
   },
   "outputs": [
    {
     "data": {
      "text/plain": [
       "35"
      ]
     },
     "execution_count": 21,
     "metadata": {},
     "output_type": "execute_result"
    }
   ],
   "source": [
    "len(sampled_data)"
   ]
  },
  {
   "cell_type": "code",
   "execution_count": 22,
   "id": "6b6e457a-1f18-420c-a3d3-9559e7fd166a",
   "metadata": {
    "tags": []
   },
   "outputs": [
    {
     "data": {
      "text/plain": [
       "['Is it ironic that a child chewing on a giant carrot is wearing glasses?',\n",
       " 'yes',\n",
       " 402077,\n",
       " 402077000,\n",
       " 'is it',\n",
       " 'yes/no',\n",
       " '/kaggle/input/vr-image-qna/val2014_sampled_10/val2014_sampled_10/COCO_val2014_000000402077.jpg']"
      ]
     },
     "execution_count": 22,
     "metadata": {},
     "output_type": "execute_result"
    }
   ],
   "source": [
    "sampled_data[0]"
   ]
  },
  {
   "cell_type": "code",
   "execution_count": 23,
   "id": "4ee617f5-79e2-471b-a2d5-7f33d82299e7",
   "metadata": {},
   "outputs": [],
   "source": [
    "answer_space = []\n",
    "for i in data:\n",
    "    answer_space.append(i[1])\n",
    "answer_space = list(set(answer_space))\n",
    "answer_space.sort()\n",
    "with open(f\"answer_space_pp.txt\", \"w\") as file:\n",
    "    for item in answer_space:\n",
    "        file.write(item + \"\\n\")"
   ]
  },
  {
   "cell_type": "code",
   "execution_count": null,
   "id": "9127448d-5008-4156-852d-1252e8ce6ad6",
   "metadata": {},
   "outputs": [],
   "source": []
  }
 ],
 "metadata": {
  "kernelspec": {
   "display_name": "Python 3 (ipykernel)",
   "language": "python",
   "name": "python3"
  },
  "language_info": {
   "codemirror_mode": {
    "name": "ipython",
    "version": 3
   },
   "file_extension": ".py",
   "mimetype": "text/x-python",
   "name": "python",
   "nbconvert_exporter": "python",
   "pygments_lexer": "ipython3",
   "version": "3.11.5"
  }
 },
 "nbformat": 4,
 "nbformat_minor": 5
}
